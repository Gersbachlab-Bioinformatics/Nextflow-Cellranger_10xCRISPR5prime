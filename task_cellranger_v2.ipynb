{
 "cells": [
  {
   "cell_type": "markdown",
   "metadata": {},
   "source": [
    "## Add this notebook on your home jupyter home directory to run the complete pipeline"
   ]
  },
  {
   "cell_type": "code",
   "execution_count": 1,
   "metadata": {
    "tags": []
   },
   "outputs": [
    {
     "name": "stdout",
     "output_type": "stream",
     "text": [
      "Cloning into 'pipeline_perturbseq_like'...\n",
      "remote: Enumerating objects: 262, done.\u001b[K\n",
      "remote: Counting objects: 100% (79/79), done.\u001b[K\n",
      "remote: Compressing objects: 100% (73/73), done.\u001b[K\n",
      "remote: Total 262 (delta 43), reused 12 (delta 6), pack-reused 183\u001b[K\n",
      "Receiving objects: 100% (262/262), 1.24 MiB | 0 bytes/s, done.\n",
      "Resolving deltas: 100% (142/142), done.\n"
     ]
    }
   ],
   "source": [
    "#!rm -r pipeline_perturbseq_like -f\n",
    "!git clone https://github.com/LucasSilvaFerreira/pipeline_perturbseq_like.git "
   ]
  },
  {
   "cell_type": "code",
   "execution_count": 2,
   "metadata": {
    "tags": []
   },
   "outputs": [
    {
     "name": "stdout",
     "output_type": "stream",
     "text": [
      "--2023-05-17 14:00:07--  https://raw.githubusercontent.com/10XGenomics/cellranger/master/lib/python/cellranger/barcodes/737K-august-2016.txt\n",
      "Resolving raw.githubusercontent.com (raw.githubusercontent.com)... 185.199.109.133, 185.199.111.133, 185.199.108.133, ...\n",
      "Connecting to raw.githubusercontent.com (raw.githubusercontent.com)|185.199.109.133|:443... connected.\n",
      "HTTP request sent, awaiting response... 200 OK\n",
      "Length: 12533760 (12M) [text/plain]\n",
      "Saving to: ‘737K-august-2016.txt’\n",
      "\n",
      "100%[======================================>] 12,533,760  21.7MB/s   in 0.6s   \n",
      "\n",
      "2023-05-17 14:00:08 (21.7 MB/s) - ‘737K-august-2016.txt’ saved [12533760/12533760]\n",
      "\n"
     ]
    }
   ],
   "source": [
    "home_dir = !pwd\n",
    "home_dir = home_dir[0]\n",
    "home_dir\n",
    "!wget https://raw.githubusercontent.com/10XGenomics/cellranger/master/lib/python/cellranger/barcodes/737K-august-2016.txt"
   ]
  },
  {
   "cell_type": "code",
   "execution_count": 11,
   "metadata": {
    "tags": []
   },
   "outputs": [
    {
     "name": "stdout",
     "output_type": "stream",
     "text": [
      "bam_pilot_guide_1  pilot_highmoi_screen.1_CGTTACCG.grna.bam\n",
      "bam_pilot_scrna_1  pilot_highmoi_screen.1_SI_GA_G1.bam\n",
      "bamtofastq_linux\n"
     ]
    }
   ],
   "source": [
    "!ls /mnt/shared/data/  "
   ]
  },
  {
   "cell_type": "code",
   "execution_count": 12,
   "metadata": {
    "scrolled": true,
    "tags": []
   },
   "outputs": [],
   "source": [
    "#!pip install scrublet\n",
    "#!pip install pybiomart\n"
   ]
  },
  {
   "cell_type": "code",
   "execution_count": 3,
   "metadata": {},
   "outputs": [
    {
     "name": "stdout",
     "output_type": "stream",
     "text": [
      "--2023-05-17 14:00:50--  https://cf.10xgenomics.com/releases/cell-exp/cellranger-7.1.0.tar.gz?Expires=1683254600&Policy=eyJTdGF0ZW1lbnQiOlt7IlJlc291cmNlIjoiaHR0cHM6Ly9jZi4xMHhnZW5vbWljcy5jb20vcmVsZWFzZXMvY2VsbC1leHAvY2VsbHJhbmdlci03LjEuMC50YXIuZ3oiLCJDb25kaXRpb24iOnsiRGF0ZUxlc3NUaGFuIjp7IkFXUzpFcG9jaFRpbWUiOjE2ODMyNTQ2MDB9fX1dfQ__&Signature=B65-3ELMLJuc~SiIM1nqYZQTxBc9rfkVJYJo3I1iIAofWKHaqYAVNYKZymRi7BKKWK5GkyddeXkkg0Q625FRvbxe9Rtr7aCtihSfE7OV5v3G4wbc436rl1yEWndzdNwkWhlbEuiI2VOH~t1phQrhmdlK5KoPVqkgQDx9UlwboLgN4aO637EwEmS0KMr2VIQB5uBCLVVYxl-9rihmDYV1zU6SCFhkk9YmrWkgUJaqYN08rqEuyRZQBrjIFtvvZcnPNOLprRlH2wRSO~dFa8wmynMnU~3dGhL7AoGYWFcGfYjytLlUDDM0Dkwf7YaNYb1MeRJa--cHB1l51P5stqcSEQ__&Key-Pair-Id=APKAI7S6A5RYOXBWRPDA\n",
      "Resolving cf.10xgenomics.com (cf.10xgenomics.com)... 104.18.0.173, 104.18.1.173, 2606:4700::6812:ad, ...\n",
      "Connecting to cf.10xgenomics.com (cf.10xgenomics.com)|104.18.0.173|:443... connected.\n",
      "HTTP request sent, awaiting response... 403 Forbidden\n",
      "2023-05-17 14:00:50 ERROR 403: Forbidden.\n",
      "\n",
      "\n",
      "gzip: stdin: unexpected end of file\n",
      "tar: Child returned status 1\n",
      "tar: Error is not recoverable: exiting now\n"
     ]
    }
   ],
   "source": [
    "!wget -O cellranger-7.1.0.tar.gz \"https://cf.10xgenomics.com/releases/cell-exp/cellranger-7.1.0.tar.gz?Expires=1683254600&Policy=eyJTdGF0ZW1lbnQiOlt7IlJlc291cmNlIjoiaHR0cHM6Ly9jZi4xMHhnZW5vbWljcy5jb20vcmVsZWFzZXMvY2VsbC1leHAvY2VsbHJhbmdlci03LjEuMC50YXIuZ3oiLCJDb25kaXRpb24iOnsiRGF0ZUxlc3NUaGFuIjp7IkFXUzpFcG9jaFRpbWUiOjE2ODMyNTQ2MDB9fX1dfQ__&Signature=B65-3ELMLJuc~SiIM1nqYZQTxBc9rfkVJYJo3I1iIAofWKHaqYAVNYKZymRi7BKKWK5GkyddeXkkg0Q625FRvbxe9Rtr7aCtihSfE7OV5v3G4wbc436rl1yEWndzdNwkWhlbEuiI2VOH~t1phQrhmdlK5KoPVqkgQDx9UlwboLgN4aO637EwEmS0KMr2VIQB5uBCLVVYxl-9rihmDYV1zU6SCFhkk9YmrWkgUJaqYN08rqEuyRZQBrjIFtvvZcnPNOLprRlH2wRSO~dFa8wmynMnU~3dGhL7AoGYWFcGfYjytLlUDDM0Dkwf7YaNYb1MeRJa--cHB1l51P5stqcSEQ__&Key-Pair-Id=APKAI7S6A5RYOXBWRPDA\"\n",
    "!tar -xzvf cellranger-7.1.0.tar.gz\n",
    "!rm cellranger-7.1.0.tar.gz"
   ]
  },
  {
   "cell_type": "code",
   "execution_count": 4,
   "metadata": {},
   "outputs": [
    {
     "name": "stdout",
     "output_type": "stream",
     "text": [
      "  % Total    % Received % Xferd  Average Speed   Time    Time     Time  Current\n",
      "                                 Dload  Upload   Total   Spent    Left  Speed\n",
      "100 10.6G  100 10.6G    0     0   100M      0  0:01:48  0:01:48 --:--:--  101M\n",
      "refdata-gex-GRCh38-2020-A/\n",
      "refdata-gex-GRCh38-2020-A/pickle/\n",
      "refdata-gex-GRCh38-2020-A/pickle/genes.pickle\n",
      "refdata-gex-GRCh38-2020-A/fasta/\n",
      "refdata-gex-GRCh38-2020-A/fasta/genome.fa.fai\n",
      "refdata-gex-GRCh38-2020-A/fasta/genome.fa\n",
      "refdata-gex-GRCh38-2020-A/star/\n",
      "refdata-gex-GRCh38-2020-A/star/transcriptInfo.tab\n",
      "refdata-gex-GRCh38-2020-A/star/chrNameLength.txt\n",
      "refdata-gex-GRCh38-2020-A/star/SAindex\n",
      "refdata-gex-GRCh38-2020-A/star/geneInfo.tab\n",
      "refdata-gex-GRCh38-2020-A/star/SA\n",
      "refdata-gex-GRCh38-2020-A/star/exonInfo.tab\n",
      "refdata-gex-GRCh38-2020-A/star/chrStart.txt\n",
      "refdata-gex-GRCh38-2020-A/star/chrName.txt\n",
      "refdata-gex-GRCh38-2020-A/star/sjdbList.fromGTF.out.tab\n",
      "refdata-gex-GRCh38-2020-A/star/chrLength.txt\n",
      "refdata-gex-GRCh38-2020-A/star/sjdbInfo.txt\n",
      "refdata-gex-GRCh38-2020-A/star/genomeParameters.txt\n",
      "refdata-gex-GRCh38-2020-A/star/exonGeTrInfo.tab\n",
      "refdata-gex-GRCh38-2020-A/star/Genome\n",
      "refdata-gex-GRCh38-2020-A/star/sjdbList.out.tab\n",
      "refdata-gex-GRCh38-2020-A/genes/\n",
      "refdata-gex-GRCh38-2020-A/genes/genes.gtf\n",
      "refdata-gex-GRCh38-2020-A/reference.json\n"
     ]
    }
   ],
   "source": [
    "!curl -O https://cf.10xgenomics.com/supp/cell-exp/refdata-gex-GRCh38-2020-A.tar.gz\n",
    "!tar -xzvf refdata-gex-GRCh38-2020-A.tar.gz\n",
    "!rm refdata-gex-GRCh38-2020-A.tar.gz"
   ]
  },
  {
   "cell_type": "code",
   "execution_count": 5,
   "metadata": {},
   "outputs": [
    {
     "name": "stdout",
     "output_type": "stream",
     "text": [
      "/gpfs/fs1/data/gersbachlab/Ruhi/Nextflow\r\n"
     ]
    }
   ],
   "source": [
    "!pwd"
   ]
  },
  {
   "cell_type": "code",
   "execution_count": 8,
   "metadata": {
    "tags": []
   },
   "outputs": [
    {
     "name": "stdout",
     "output_type": "stream",
     "text": [
      "Overwriting /data/gersbachlab/Ruhi/pipeline_perturbseq_like/cellranger.nf\n"
     ]
    }
   ],
   "source": [
    "%%writefile /data/gersbachlab/Ruhi/pipeline_perturbseq_like/cellranger.nf\n",
    "\n",
    "params.CELLRANGER_REF = '/data/gersbachlab/Ruhi/pipeline_perturbseq_like/refdata-gex-GRCh38-2020-A'\n",
    "params.GUIDE_FEATURES = '/data/gersbachlab/Ruhi/pipeline_perturbseq_like/df_from_gasperini_tss.xlsx'\n",
    "params.CHEMISTRY = '0,0,16:0,16,26:0,26,0,1,0,0'\n",
    "params.WHITELIST= '/data/gersbachlab/Ruhi/pipeline_perturbseq_like/737K-august-2016.txt'\n",
    "params.FASTQ_FILES_TRANSCRIPTS = ['/data/reddylab/Alex/IGVF/Jamborees/230403/data/bam_pilot_scrna_1/K1000_CRISPRi_cells_r1_SI-GA-G1_MissingLibrary_1_HMMKLBGX3/bamtofastq_S1_L001_R1_001.fastq.gz  /data/reddylab/Alex/IGVF/Jamborees/230403/data/bam_pilot_scrna_1/K1000_CRISPRi_cells_r1_SI-GA-G1_MissingLibrary_1_HMMKLBGX3/bamtofastq_S1_L001_R2_001.fastq.gz  /data/reddylab/Alex/IGVF/Jamborees/230403/data/bam_pilot_scrna_1/K1000_CRISPRi_cells_r1_SI-GA-G1_MissingLibrary_1_HMMMLBGX3/bamtofastq_S1_L001_R1_001.fastq.gz  /data/reddylab/Alex/IGVF/Jamborees/230403/data/bam_pilot_scrna_1/K1000_CRISPRi_cells_r1_SI-GA-G1_MissingLibrary_1_HMMMLBGX3/bamtofastq_S1_L001_R2_001.fastq.gz  /data/reddylab/Alex/IGVF/Jamborees/230403/data/bam_pilot_scrna_1/K1000_CRISPRi_cells_r1_SI-GA-G1_MissingLibrary_1_HW5MKBGX3/bamtofastq_S1_L001_R1_001.fastq.gz  /data/reddylab/Alex/IGVF/Jamborees/230403/data/bam_pilot_scrna_1/K1000_CRISPRi_cells_r1_SI-GA-G1_MissingLibrary_1_HW5MKBGX3/bamtofastq_S1_L001_R2_001.fastq.gz  /data/reddylab/Alex/IGVF/Jamborees/230403/data/bam_pilot_scrna_1/K1000_CRISPRi_cells_r1_SI-GA-G1_MissingLibrary_1_HWVT7BGX3/bamtofastq_S1_L001_R1_001.fastq.gz  /data/reddylab/Alex/IGVF/Jamborees/230403/data/bam_pilot_scrna_1/K1000_CRISPRi_cells_r1_SI-GA-G1_MissingLibrary_1_HWVT7BGX3/bamtofastq_S1_L001_R2_001.fastq.gz  /data/reddylab/Alex/IGVF/Jamborees/230403/data/bam_pilot_scrna_1/K1000_CRISPRi_cells_r1_SI-GA-G1_MissingLibrary_1_HMMKLBGX3/bamtofastq_S1_L002_R1_001.fastq.gz  /data/reddylab/Alex/IGVF/Jamborees/230403/data/bam_pilot_scrna_1/K1000_CRISPRi_cells_r1_SI-GA-G1_MissingLibrary_1_HMMKLBGX3/bamtofastq_S1_L002_R2_001.fastq.gz  /data/reddylab/Alex/IGVF/Jamborees/230403/data/bam_pilot_scrna_1/K1000_CRISPRi_cells_r1_SI-GA-G1_MissingLibrary_1_HMMMLBGX3/bamtofastq_S1_L002_R1_001.fastq.gz  /data/reddylab/Alex/IGVF/Jamborees/230403/data/bam_pilot_scrna_1/K1000_CRISPRi_cells_r1_SI-GA-G1_MissingLibrary_1_HMMMLBGX3/bamtofastq_S1_L002_R2_001.fastq.gz  /data/reddylab/Alex/IGVF/Jamborees/230403/data/bam_pilot_scrna_1/K1000_CRISPRi_cells_r1_SI-GA-G1_MissingLibrary_1_HW5MKBGX3/bamtofastq_S1_L002_R1_001.fastq.gz  /data/reddylab/Alex/IGVF/Jamborees/230403/data/bam_pilot_scrna_1/K1000_CRISPRi_cells_r1_SI-GA-G1_MissingLibrary_1_HW5MKBGX3/bamtofastq_S1_L002_R2_001.fastq.gz  /data/reddylab/Alex/IGVF/Jamborees/230403/data/bam_pilot_scrna_1/K1000_CRISPRi_cells_r1_SI-GA-G1_MissingLibrary_1_HWVT7BGX3/bamtofastq_S1_L002_R1_001.fastq.gz  /data/reddylab/Alex/IGVF/Jamborees/230403/data/bam_pilot_scrna_1/K1000_CRISPRi_cells_r1_SI-GA-G1_MissingLibrary_1_HWVT7BGX3/bamtofastq_S1_L002_R2_001.fastq.gz  /data/reddylab/Alex/IGVF/Jamborees/230403/data/bam_pilot_scrna_1/K1000_CRISPRi_cells_r1_SI-GA-G1_MissingLibrary_1_HMMKLBGX3/bamtofastq_S1_L003_R1_001.fastq.gz  /data/reddylab/Alex/IGVF/Jamborees/230403/data/bam_pilot_scrna_1/K1000_CRISPRi_cells_r1_SI-GA-G1_MissingLibrary_1_HMMKLBGX3/bamtofastq_S1_L003_R2_001.fastq.gz  /data/reddylab/Alex/IGVF/Jamborees/230403/data/bam_pilot_scrna_1/K1000_CRISPRi_cells_r1_SI-GA-G1_MissingLibrary_1_HMMMLBGX3/bamtofastq_S1_L003_R1_001.fastq.gz  /data/reddylab/Alex/IGVF/Jamborees/230403/data/bam_pilot_scrna_1/K1000_CRISPRi_cells_r1_SI-GA-G1_MissingLibrary_1_HMMMLBGX3/bamtofastq_S1_L003_R2_001.fastq.gz  /data/reddylab/Alex/IGVF/Jamborees/230403/data/bam_pilot_scrna_1/K1000_CRISPRi_cells_r1_SI-GA-G1_MissingLibrary_1_HW5MKBGX3/bamtofastq_S1_L003_R1_001.fastq.gz  /data/reddylab/Alex/IGVF/Jamborees/230403/data/bam_pilot_scrna_1/K1000_CRISPRi_cells_r1_SI-GA-G1_MissingLibrary_1_HW5MKBGX3/bamtofastq_S1_L003_R2_001.fastq.gz  /data/reddylab/Alex/IGVF/Jamborees/230403/data/bam_pilot_scrna_1/K1000_CRISPRi_cells_r1_SI-GA-G1_MissingLibrary_1_HWVT7BGX3/bamtofastq_S1_L003_R1_001.fastq.gz  /data/reddylab/Alex/IGVF/Jamborees/230403/data/bam_pilot_scrna_1/K100_CRISPRi_cells_r1_SI-GA-G1_MissingLibrary_1_HWVT7BGX3/bamtofastq_S1_L003_R2_001.fastq.gz  /data/reddylab/Alex/IGVF/Jamborees/230403/data/bam_pilot_scrna_1/K1000_CRISPRi_cells_r1_SI-GA-G1_MissingLibrary_1_HMMKLBGX3/bamtofastq_S1_L004_R1_001.fastq.gz  /data/reddylab/Alex/IGVF/Jamborees/230403/data/bam_pilot_scrna_1/K1000_CRISPRi_cells_r1_SI-GA-G1_MissingLibrary_1_HMMKLBGX3/bamtofastq_S1_L004_R2_001.fastq.gz  /data/reddylab/Alex/IGVF/Jamborees/230403/data/bam_pilot_scrna_1/K1000_CRISPRi_cells_r1_SI-GA-G1_MissingLibrary_1_HMMMLBGX3/bamtofastq_S1_L004_R1_001.fastq.gz  /data/reddylab/Alex/IGVF/Jamborees/230403/data/bam_pilot_scrna_1/K1000_CRISPRi_cells_r1_SI-GA-G1_MissingLibrary_1_HMMMLBGX3/bamtofastq_S1_L004_R2_001.fastq.gz  /data/reddylab/Alex/IGVF/Jamborees/230403/data/bam_pilot_scrna_1/K1000_CRISPRi_cells_r1_SI-GA-G1_MissingLibrary_1_HW5MKBGX3/bamtofastq_S1_L004_R1_001.fastq.gz  /data/reddylab/Alex/IGVF/Jamborees/230403/data/bam_pilot_scrna_1/K1000_CRISPRi_cells_r1_SI-GA-G1_MissingLibrary_1_HW5MKBGX3/bamtofastq_S1_L004_R2_001.fastq.gz  /data/reddylab/Alex/IGVF/Jamborees/230403/data/bam_pilot_scrna_1/K1000_CRISPRi_cells_r1_SI-GA-G1_MissingLibrary_1_HWVT7BGX3/bamtofastq_S1_L004_R1_001.fastq.gz  /data/reddylab/Alex/IGVF/Jamborees/230403/data/bam_pilot_scrna_1/K1000_CRISPRi_cells_r1_SI-GA-G1_MissingLibrary_1_HWVT7BGX3/bamtofastq_S1_L004_R2_001.fastq.gz'] \n",
    "params.FASTQ_NAMES_TRANSCRIPTS = ['S1_L1']\n",
    "params.FASTQ_FILES_GUIDES = ['/data/reddylab/Alex/IGVF/Jamborees/230403/data/bam_pilot_guide_1/K1000_CRISPRi_gRNA_r1_CGTTACCG_MissingLibrary_1_HMMKLBGX3/bamtofastq_S1_L001_R1_001.fastq.gz  /data/reddylab/Alex/IGVF/Jamborees/230403/data/bam_pilot_guide_1/K1000_CRISPRi_gRNA_r1_CGTTACCG_MissingLibrary_1_HMMKLBGX3/bamtofastq_S1_L001_R2_001.fastq.gz  /data/reddylab/Alex/IGVF/Jamborees/230403/data/bam_pilot_guide_1/K1000_CRISPRi_gRNA_r1_CGTTACCG_MissingLibrary_1_HMMMLBGX3/bamtofastq_S1_L001_R1_001.fastq.gz  /data/reddylab/Alex/IGVF/Jamborees/230403/data/bam_pilot_guide_1/K1000_CRISPRi_gRNA_r1_CGTTACCG_MissingLibrary_1_HMMMLBGX3/bamtofastq_S1_L001_R2_001.fastq.gz  /data/reddylab/Alex/IGVF/Jamborees/230403/data/bam_pilot_guide_1/K1000_CRISPRi_gRNA_r1_CGTTACCG_MissingLibrary_1_HW5MKBGX3/bamtofastq_S1_L001_R1_001.fastq.gz  /data/reddylab/Alex/IGVF/Jamborees/230403/data/bam_pilot_guide_1/K1000_CRISPRi_gRNA_r1_CGTTACCG_MissingLibrary_1_HW5MKBGX3/bamtofastq_S1_L001_R2_001.fastq.gz  /data/reddylab/Alex/IGVF/Jamborees/230403/data/bam_pilot_guide_1/K1000_CRISPRi_gRNA_r1_CGTTACCG_MissingLibrary_1_HMMKLBGX3/bamtofastq_S1_L002_R1_001.fastq.gz  /data/reddylab/Alex/IGVF/Jamborees/230403/data/bam_pilot_guide_1/K1000_CRISPRi_gRNA_r1_CGTTACCG_MissingLibrary_1_HMMKLBGX3/bamtofastq_S1_L002_R2_001.fastq.gz  /data/reddylab/Alex/IGVF/Jamborees/230403/data/bam_pilot_guide_1/K1000_CRISPRi_gRNA_r1_CGTTACCG_MissingLibrary_1_HMMMLBGX3/bamtofastq_S1_L002_R1_001.fastq.gz  /data/reddylab/Alex/IGVF/Jamborees/230403/data/bam_pilot_guide_1/K1000_CRISPRi_gRNA_r1_CGTTACCG_MissingLibrary_1_HMMMLBGX3/bamtofastq_S1_L002_R2_001.fastq.gz  /data/reddylab/Alex/IGVF/Jamborees/230403/data/bam_pilot_guide_1/K1000_CRISPRi_gRNA_r1_CGTTACCG_MissingLibrary_1_HW5MKBGX3/bamtofastq_S1_L002_R1_001.fastq.gz  /data/reddylab/Alex/IGVF/Jamborees/230403/data/bam_pilot_guide_1/K1000_CRISPRi_gRNA_r1_CGTTACCG_MissingLibrary_1_HW5MKBGX3/bamtofastq_S1_L002_R2_001.fastq.gz  /data/reddylab/Alex/IGVF/Jamborees/230403/data/bam_pilot_guide_1/K1000_CRISPRi_gRNA_r1_CGTTACCG_MissingLibrary_1_HMMKLBGX3/bamtofastq_S1_L003_R1_001.fastq.gz  /data/reddylab/Alex/IGVF/Jamborees/230403/data/bam_pilot_guide_1/K1000_CRISPRi_gRNA_r1_CGTTACCG_MissingLibrary_1_HMMKLBGX3/bamtofastq_S1_L003_R2_001.fastq.gz  /data/reddylab/Alex/IGVF/Jamborees/230403/data/bam_pilot_guide_1/K1000_CRISPRi_gRNA_r1_CGTTACCG_MissingLibrary_1_HMMMLBGX3/bamtofastq_S1_L003_R1_001.fastq.gz  /data/reddylab/Alex/IGVF/Jamborees/230403/data/bam_pilot_guide_1/K1000_CRISPRi_gRNA_r1_CGTTACCG_MissingLibrary_1_HMMMLBGX3/bamtofastq_S1_L003_R2_001.fastq.gz  /data/reddylab/Alex/IGVF/Jamborees/230403/data/bam_pilot_guide_1/K1000_CRISPRi_gRNA_r1_CGTTACCG_MissingLibrary_1_HW5MKBGX3/bamtofastq_S1_L003_R1_001.fastq.gz  /data/reddylab/Alex/IGVF/Jamborees/230403/data/bam_pilot_guide_1/K1000_CRISPRi_gRNA_r1_CGTTACCG_MissingLibrary_1_HW5MKBGX3/bamtofastq_S1_L003_R2_001.fastq.gz  /data/reddylab/Alex/IGVF/Jamborees/230403/data/bam_pilot_guide_1/K1000_CRISPRi_gRNA_r1_CGTTACCG_MissingLibrary_1_HMMKLBGX3/bamtofastq_S1_L004_R1_001.fastq.gz  /data/reddylab/Alex/IGVF/Jamborees/230403/data/bam_pilot_guide_1/K1000_CRISPRi_gRNA_r1_CGTTACCG_MissingLibrary_1_HMMKLBGX3/bamtofastq_S1_L004_R2_001.fastq.gz  /data/reddylab/Alex/IGVF/Jamborees/230403/data/bam_pilot_guide_1/K1000_CRISPRi_gRNA_r1_CGTTACCG_MissingLibrary_1_HMMMLBGX3/bamtofastq_S1_L004_R1_001.fastq.gz  /data/reddylab/Alex/IGVF/Jamborees/230403/data/bam_pilot_guide_1/K1000_CRISPRi_gRNA_r1_CGTTACCG_MissingLibrary_1_HMMMLBGX3/bamtofastq_S1_L004_R2_001.fastq.gz  /data/reddylab/Alex/IGVF/Jamborees/230403/data/bam_pilot_guide_1/K1000_CRISPRi_gRNA_r1_CGTTACCG_MissingLibrary_1_HW5MKBGX3/bamtofastq_S1_L004_R1_001.fastq.gz  /data/reddylab/Alex/IGVF/Jamborees/230403/data/bam_pilot_guide_1/K1000_CRISPRi_gRNA_r1_CGTTACCG_MissingLibrary_1_HW5MKBGX3/bamtofastq_S1_L004_R2_001.fastq.gz'] \n",
    "params.FASTQ_NAMES_GUIDES = ['S1_L1']\n",
    "params.THREADS = 15\n",
    "\n",
    "\n",
    "\n",
    "\n",
    "\n",
    "\n",
    "process cellranger {\n",
    "        input:\n",
    "        tuple val(rna_sample_name)\n",
    "        tuple val(rna_string_fastqz)\n",
    "        tuple val(guide_sample_name)\n",
    "        tuple val(guide_string_fastqz)\n",
    "        tuple val(guide_features)\n",
    "        tuple val(cellranger_ref)\n",
    "        tuple val(chemistry)\n",
    "        tuple val(threads)\n",
    "        tuple val(whitelist)\n",
    "        output:\n",
    "        path ('outs/filtered_feature_bc_matrix/matrix.mtx.gz'),  emit: mtx_file\n",
    "\n",
    "        script:\n",
    "    \n",
    "        \"\"\"\n",
    "        \n",
    "        chmod 700 /data/gersbachlab/Ruhi/pipeline_perturbseq_like/generating_cell_range_inputs.py\n",
    "        /data/gersbachlab/Ruhi/pipeline_perturbseq_like/generating_cell_range_inputs.py --rna_sample_name $rna_sample_name --rna_string_fastqz \"$rna_string_fastqz\" --guide_sample_name $guide_sample_name --guide_string_fastqz \"$guide_string_fastqz\" --guide_features $guide_features --cellranger_ref $cellranger_ref --chemistry $chemistry --threads 15 --whitelist $whitelist\n",
    "        #The script generating_cell_range_inputs.py should create the library.csv and feature_ref.csv \n",
    "        #remove the comment to run cellranger\n",
    "        /data/gersbachlab/Ruhi/pipeline_perturbseq_like/cellranger-7.1.0/bin/cellranger count --id=gasperini_01 --libraries=/data/gersbachlab/Ruhi/pipeline_perturbseq_like/library.csv --transcriptome=$cellranger_ref --feature-ref=/data/gersbachlab/Ruhi/pipeline_perturbseq_like/feature_ref.csv\n",
    "        \n",
    "        #Artificially creating the output. Remove it when cellranger starts running.\n",
    "        \n",
    "        mkdir  outs\n",
    "        mkdir  outs/filtered_feature_bc_matrix/\n",
    "        mkdir 'outs/filtered_feature_bc_matrix/matrix.mtx.gz'\n",
    "        \n",
    "        \"\"\"\n",
    "} \n",
    "        \n",
    "\n",
    "\n",
    "workflow {\n",
    "    \n",
    "      cellranger_out = cellranger (\n",
    "                 Channel.from(params.FASTQ_NAMES_TRANSCRIPTS),\n",
    "                 Channel.from(params.FASTQ_FILES_TRANSCRIPTS),\n",
    "                 Channel.from(params.FASTQ_NAMES_GUIDES),\n",
    "                 Channel.from(params.FASTQ_FILES_GUIDES),\n",
    "                 Channel.from(params.GUIDE_FEATURES),\n",
    "                 Channel.from(params.CELLRANGER_REF),\n",
    "                 Channel.of(params.CHEMISTRY).collect(),\n",
    "                 Channel.of(params.THREADS).collect(),\n",
    "                 Channel.of(params.WHITELIST).collect(),\n",
    "                )\n",
    "\n",
    "\n",
    "\n",
    "}"
   ]
  },
  {
   "cell_type": "code",
   "execution_count": 15,
   "metadata": {},
   "outputs": [
    {
     "name": "stdout",
     "output_type": "stream",
     "text": [
      "Overwriting /data/gersbachlab/Ruhi/pipeline_perturbseq_like/generating_cell_range_inputs.py\n"
     ]
    }
   ],
   "source": [
    "%%writefile  /data/gersbachlab/Ruhi/pipeline_perturbseq_like/generating_cell_range_inputs.py\n",
    "#!/usr/bin/env python\n",
    "import argparse\n",
    "\n",
    "parser = argparse.ArgumentParser(description='Description of your program')\n",
    "parser.add_argument('--rna_sample_name', help='Description of the RNA sample name variable')\n",
    "parser.add_argument('--rna_string_fastqz', help='Description of the RNA string fastqz variable')\n",
    "parser.add_argument('--guide_sample_name', help='Description of the guide sample name variable')\n",
    "parser.add_argument('--guide_string_fastqz',  help='Description of the string fastqz variable')\n",
    "parser.add_argument('--guide_features',  help='Description of the guide features variable')\n",
    "parser.add_argument('--cellranger_ref',  help='Description of the cellranger ref')\n",
    "parser.add_argument('--chemistry',  help='Description of the chemistry variable')\n",
    "parser.add_argument('--threads', type=int, help='Description of the threads variable')\n",
    "parser.add_argument('--whitelist', help='Description of the whitelist variable')\n",
    "\n",
    "args = parser.parse_args()\n",
    "\n",
    "print(args.rna_sample_name)\n",
    "print(args.rna_string_fastqz)\n",
    "print(args.guide_sample_name)\n",
    "print(args.guide_string_fastqz)\n",
    "print(args.guide_features)\n",
    "print(args.cellranger_ref)\n",
    "print(args.chemistry)\n",
    "print(args.threads)\n",
    "print(args.whitelist)\n",
    "\n",
    "#ex:\n",
    "\n",
    "\n",
    "\n",
    "\n",
    "#Use these variables to create the inputs for  cellranger."
   ]
  },
  {
   "cell_type": "code",
   "execution_count": 9,
   "metadata": {
    "tags": []
   },
   "outputs": [
    {
     "name": "stdout",
     "output_type": "stream",
     "text": [
      "Submitted batch job 29812614\n"
     ]
    }
   ],
   "source": [
    "%%bash\n",
    "source /data/reddylab/Ruhi/miniconda3/bin/activate perturbseq_like_pipeline\n",
    "sbatch \\\n",
    "    -p all \\\n",
    "    --mem=64G \\\n",
    "    --cpus-per-task=24 \\\n",
    "    -o /data/gersbachlab/Ruhi/pipeline_perturbseq_like/cellranger3.%a.out \\\n",
    "    nextflow run /data/gersbachlab/Ruhi/pipeline_perturbseq_like/cellranger.nf -w /data/gersbachlab/Ruhi/pipeline_perturbseq_like/test_cellranger3"
   ]
  },
  {
   "cell_type": "code",
   "execution_count": 4,
   "metadata": {},
   "outputs": [
    {
     "name": "stdout",
     "output_type": "stream",
     "text": [
      "Submitted batch job 29818213\n"
     ]
    }
   ],
   "source": [
    "%%bash\n",
    "source /data/reddylab/Ruhi/miniconda3/bin/activate perturbseq_like_pipeline\n",
    "sbatch \\\n",
    "    -p all \\\n",
    "    --mem=64G \\\n",
    "    --cpus-per-task=24 \\\n",
    "    -o /data/gersbachlab/Ruhi/pipeline_perturbseq_like/perturbseq.%a.out \\\n",
    "    nextflow run /data/gersbachlab/Ruhi/pipeline_perturbseq_like/main.nf -c /data/gersbachlab/Ruhi/pipeline_perturbseq_like/test_perturb.config -with-timeline /data/gersbachlab/Ruhi/pipeline_perturbseq_like/timeline_OUT_exp_1 -resume -w  /data/gersbachlab/Ruhi/pipeline_perturbseq_like/perturbseq_OUT_exp_1"
   ]
  },
  {
   "cell_type": "code",
   "execution_count": 3,
   "metadata": {},
   "outputs": [
    {
     "name": "stdout",
     "output_type": "stream",
     "text": [
      "Submitted batch job 29915265\n"
     ]
    }
   ],
   "source": [
    "%%bash\n",
    "source /data/reddylab/Ruhi/miniconda3/bin/activate perturbseq_like_pipeline2\n",
    "sbatch \\\n",
    "    -p all \\\n",
    "    --mem=128G \\\n",
    "    --cpus-per-task=24 \\\n",
    "    -o /data/gersbachlab/Ruhi/Nextflow/pipeline_perturbseq_like/perturbseq5.%a.out \\\n",
    "    nextflow run /data/gersbachlab/Ruhi/Nextflow/pipeline_perturbseq_like/main.nf -c /data/gersbachlab/Ruhi/Nextflow/pipeline_perturbseq_like/perturb.config -with-timeline /data/gersbachlab/Ruhi/Nextflow/pipeline_perturbseq_like/timeline_OUT_exp_1 -resume -w  /data/gersbachlab/Ruhi/Nextflow/pipeline_perturbseq_like/perturbseq_OUT_exp_1"
   ]
  },
  {
   "cell_type": "code",
   "execution_count": 9,
   "metadata": {},
   "outputs": [
    {
     "name": "stdout",
     "output_type": "stream",
     "text": [
      "Submitted batch job 30005833\n"
     ]
    }
   ],
   "source": [
    "%%bash\n",
    "source /data/reddylab/Ruhi/miniconda3/bin/activate perturbseq_like_pipeline2\n",
    "sbatch \\\n",
    "    -p all \\\n",
    "    --mem=128G \\\n",
    "    --cpus-per-task=24 \\\n",
    "    -o /data/gersbachlab/Ruhi/Nextflow/pipeline_perturbseq_like/cellranger_perturb9.%a.out \\\n",
    "    nextflow run /data/gersbachlab/Ruhi/Nextflow/pipeline_perturbseq_like/main_cellranger.nf -c /data/gersbachlab/Ruhi/Nextflow/pipeline_perturbseq_like/cellranger_perturb.config -with-timeline /data/gersbachlab/Ruhi/Nextflow/pipeline_perturbseq_like/cellranger_timeline_OUT_exp_1 -resume -w  /data/gersbachlab/Ruhi/Nextflow/pipeline_perturbseq_like/cellranger_perturbseq_OUT_exp_9"
   ]
  },
  {
   "cell_type": "code",
   "execution_count": 25,
   "metadata": {},
   "outputs": [
    {
     "name": "stdout",
     "output_type": "stream",
     "text": [
      "Submitted batch job 29960251\n"
     ]
    }
   ],
   "source": [
    "%%bash\n",
    "source /data/reddylab/Ruhi/miniconda3/bin/activate perturbseq_like_pipeline2\n",
    "sbatch \\\n",
    "    -p all \\\n",
    "    --mem=256G \\\n",
    "    --cpus-per-task=24 \\\n",
    "    -o /data/gersbachlab/Ruhi/Nextflow/pipeline_perturbseq_like/cellranger_perturb8.%a.out \\\n",
    "    nextflow run /data/gersbachlab/Ruhi/Nextflow/pipeline_perturbseq_like/test_cellranger.nf -c /data/gersbachlab/Ruhi/Nextflow/pipeline_perturbseq_like/cellranger_perturb.config -with-timeline /data/gersbachlab/Ruhi/Nextflow/pipeline_perturbseq_like/cellranger_timeline_OUT_exp_1 -resume -w  /data/gersbachlab/Ruhi/Nextflow/pipeline_perturbseq_like/cellranger_perturbseq_OUT_exp_8"
   ]
  },
  {
   "cell_type": "markdown",
   "metadata": {},
   "source": [
    "!find /data/gersbachlab/Ruhi/Nextflow/pipeline_perturbseq_like/perturbseq_OUT_exp_1 | grep 'results.txt'"
   ]
  },
  {
   "cell_type": "code",
   "execution_count": 11,
   "metadata": {},
   "outputs": [
    {
     "name": "stdout",
     "output_type": "stream",
     "text": [
      "N E X T F L O W  ~  version 23.04.1\n",
      "ERROR ~ Unknown method invocation `left` on _parse_closure5 type\n",
      "\n",
      " -- Check '.nextflow.log' file for details\n"
     ]
    }
   ],
   "source": [
    "\n",
    "execute_path = '/data/gersbachlab/Ruhi/Nextflow/pipeline_perturbseq_like/'\n",
    "nf_path = '/data/gersbachlab/Ruhi/Nextflow/pipeline_perturbseq_like/main.nf'    #'https://github.com/LucasSilvaFerreira/pipeline_perturbseq_like'\n",
    "dir_out = 'gasperini_test_01'\n",
    "report_path = f'/data/gersbachlab/Ruhi/Nextflow/pipeline_perturbseq_like/{dir_out}'\n",
    "resume = '-resume' # -resume or empty\n",
    "param_file_path = '/data/gersbachlab/Ruhi/Nextflow/pipeline_perturbseq_like/perturb.config'\n",
    "visualization_timeline = f'/data/gersbachlab/Ruhi/Nextflow/pipeline_perturbseq_like/{dir_out}.html'\n",
    "next_tower =   'export TOWER_ACCESS_TOKEN=eyJ0aWQiOiA3MzEyfS42OGZhZWNiZDVlMTE3ODhhMDAxMTgwMGRjOGE5MTZkZDQzNTU3OTU5'\n",
    "next_version = 'export NXF_VER=23.04.1'\n",
    "next_source = 'source /data/reddylab/Ruhi/miniconda3/bin/activate perturbseq_like_pipeline2'\n",
    "\n",
    "cmd_run =  f' {next_tower};{next_version};cd {execute_path}; {next_source}; /data/reddylab/Ruhi/miniconda3/envs/perturbseq_like_pipeline/bin/nextflow run {nf_path} -c {param_file_path}  -with-tower  -with-timeline {visualization_timeline} {resume} -w  {dir_out}  '  \n",
    "!$cmd_run\n"
   ]
  },
  {
   "cell_type": "code",
   "execution_count": 5,
   "metadata": {
    "tags": []
   },
   "outputs": [],
   "source": [
    "#!rm -r gasperini_test_01"
   ]
  },
  {
   "cell_type": "code",
   "execution_count": null,
   "metadata": {},
   "outputs": [],
   "source": []
  }
 ],
 "metadata": {
  "kernelspec": {
   "display_name": "Python 3",
   "language": "python",
   "name": "python3"
  },
  "language_info": {
   "codemirror_mode": {
    "name": "ipython",
    "version": 3
   },
   "file_extension": ".py",
   "mimetype": "text/x-python",
   "name": "python",
   "nbconvert_exporter": "python",
   "pygments_lexer": "ipython3",
   "version": "3.6.7"
  }
 },
 "nbformat": 4,
 "nbformat_minor": 5
}
